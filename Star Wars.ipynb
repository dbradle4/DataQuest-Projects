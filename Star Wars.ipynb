{
 "cells": [
  {
   "cell_type": "code",
   "execution_count": 1,
   "metadata": {
    "collapsed": false
   },
   "outputs": [],
   "source": [
    "import pandas as pd\n",
    "star_wars = pd.read_csv(\"star_wars.csv\", encoding=\"windows-1252\")"
   ]
  },
  {
   "cell_type": "code",
   "execution_count": 2,
   "metadata": {
    "collapsed": false
   },
   "outputs": [],
   "source": [
    "star_wars = star_wars[star_wars['RespondentID'].notnull()]"
   ]
  },
  {
   "cell_type": "code",
   "execution_count": 3,
   "metadata": {
    "collapsed": true
   },
   "outputs": [],
   "source": [
    "yes_no = {\n",
    "    \"Yes\": True,\n",
    "    \"No\": False\n",
    "}\n",
    "star_wars[\"Have you seen any of the 6 films in the Star Wars franchise?\"] = star_wars[\"Have you seen any of the 6 films in the Star Wars franchise?\"].map(yes_no)\n",
    "star_wars['Do you consider yourself to be a fan of the Star Wars film franchise?'] = star_wars['Do you consider yourself to be a fan of the Star Wars film franchise?'].map(yes_no)"
   ]
  },
  {
   "cell_type": "code",
   "execution_count": 4,
   "metadata": {
    "collapsed": true
   },
   "outputs": [],
   "source": [
    "import numpy as np\n",
    "seen = {\n",
    "    \"Star Wars: Episode I  The Phantom Menace\": True,\n",
    "    \"Star Wars: Episode II  Attack of the Clones\": True,\n",
    "    \"Star Wars: Episode III  Revenge of the Sith\": True,\n",
    "    \"Star Wars: Episode IV  A New Hope\": True,\n",
    "    \"Star Wars: Episode V The Empire Strikes Back\": True,\n",
    "    \"Star Wars: Episode VI Return of the Jedi\": True,\n",
    "    np.nan: False\n",
    "}"
   ]
  },
  {
   "cell_type": "code",
   "execution_count": 5,
   "metadata": {
    "collapsed": true
   },
   "outputs": [],
   "source": [
    "for column in star_wars.columns[3:9]:\n",
    "    star_wars[column] = star_wars[column].map(seen)"
   ]
  },
  {
   "cell_type": "code",
   "execution_count": 6,
   "metadata": {
    "collapsed": true
   },
   "outputs": [],
   "source": [
    "star_wars = star_wars.rename(columns={\"Which of the following Star Wars films have you seen? Please select all that apply.\": \"seen_1\", \"Unnamed: 4\": \"seen_2\", \"Unnamed: 5\": \"seen_3\", \"Unnamed: 6\": \"seen_4\", \"Unnamed: 7\": \"seen_5\", \"Unnamed: 8\": \"seen_6\"})"
   ]
  },
  {
   "cell_type": "code",
   "execution_count": 7,
   "metadata": {
    "collapsed": true
   },
   "outputs": [],
   "source": [
    "star_wars[star_wars.columns[9:15]] = star_wars[star_wars.columns[9:15]].astype(float)\n",
    "star_wars = star_wars.rename(columns={\"Please rank the Star Wars films in order of preference with 1 being your favorite film in the franchise and 6 being your least favorite film\": \"ranking_epI\",\n",
    "                                     \"Unnamed: 9\": \"ranking_ep2\",\n",
    "                                     \"Unnamed: 10\": \"ranking_ep3\",\n",
    "                                     \"Unnamed: 11\": \"ranking_ep4\",\n",
    "                                     \"Unnamed: 12\": \"ranking_ep5\",\n",
    "                                     \"Unnamed: 13\": \"ranking_ep6\"})"
   ]
  },
  {
   "cell_type": "code",
   "execution_count": 11,
   "metadata": {
    "collapsed": true
   },
   "outputs": [],
   "source": [
    "mean_rankings = pd.Series()\n",
    "mean_rankings = star_wars[star_wars.columns[9:15]].mean(axis=0)"
   ]
  },
  {
   "cell_type": "code",
   "execution_count": 12,
   "metadata": {
    "collapsed": false
   },
   "outputs": [],
   "source": [
    "import matplotlib.pyplot as plt\n",
    "%matplotlib inline"
   ]
  },
  {
   "cell_type": "code",
   "execution_count": 13,
   "metadata": {
    "collapsed": false
   },
   "outputs": [
    {
     "data": {
      "image/png": "[encoded data removed]",
      "text/plain": [
       "<matplotlib.figure.Figure at 0x7f7e5f63cac8>"
      ]
     },
     "metadata": {},
     "output_type": "display_data"
    }
   ],
   "source": [
    "ind = np.arange(6)\n",
    "width = 0.35\n",
    "fig, ax = plt.subplots()\n",
    "rects = ax.bar(ind, mean_rankings, width)\n",
    "ax.set_ylabel(\"Rank\")\n",
    "ax.set_xlabel(\"Episodes\")\n",
    "ax.set_title(\"Average Ranking of Star Wars Movies\")\n",
    "ax.set_xticks(0.5*width+ind)\n",
    "ax.set_xticklabels((\"Ep I\", \"Ep 2\", \"Ep 3\", \"Ep 4\", \"Ep 5\", \"Ep 6\"))\n",
    "plt.show()"
   ]
  },
  {
   "cell_type": "markdown",
   "metadata": {},
   "source": [
    "From the average ranking data, considering that 1 is the best score and 6 is the worst, most people prefer \"The Empire Strikes Back\" and strongly dislike \"Revenge of the Sith\""
   ]
  },
  {
   "cell_type": "code",
   "execution_count": 14,
   "metadata": {
    "collapsed": true
   },
   "outputs": [],
   "source": [
    "sum_views = pd.Series()\n",
    "sum_views = star_wars[star_wars.columns[3:9]].sum(axis=0)"
   ]
  },
  {
   "cell_type": "code",
   "execution_count": 15,
   "metadata": {
    "collapsed": false
   },
   "outputs": [
    {
     "data": {
      "image/png": "[encoded data removed]",
      "text/plain": [
       "<matplotlib.figure.Figure at 0x7f7e5f4d47f0>"
      ]
     },
     "metadata": {},
     "output_type": "display_data"
    }
   ],
   "source": [
    "ind = np.arange(6)\n",
    "width = 0.35\n",
    "fig, ax = plt.subplots()\n",
    "rects = ax.bar(ind, sum_views, width)\n",
    "ax.set_ylabel(\"Views\")\n",
    "ax.set_xlabel(\"Episodes\")\n",
    "ax.set_title(\"Sum of Viewings for Survey of Star Wars Movies\")\n",
    "ax.set_xticks(0.5*width+ind)\n",
    "ax.set_xticklabels((\"Ep I\", \"Ep 2\", \"Ep 3\", \"Ep 4\", \"Ep 5\", \"Ep 6\"))\n",
    "plt.show()"
   ]
  },
  {
   "cell_type": "markdown",
   "metadata": {},
   "source": [
    "More people have seen episode 5, and fewer people have seen episode 3. This would affect the ratings of those movies, surely."
   ]
  },
  {
   "cell_type": "code",
   "execution_count": 16,
   "metadata": {
    "collapsed": true
   },
   "outputs": [],
   "source": [
    "fans = star_wars[star_wars[\"Do you consider yourself to be a fan of the Star Wars film franchise?\"] == True]\n",
    "not_fans = star_wars[star_wars[\"Do you consider yourself to be a fan of the Star Wars film franchise?\"] != True]"
   ]
  },
  {
   "cell_type": "code",
   "execution_count": null,
   "metadata": {
    "collapsed": true
   },
   "outputs": [],
   "source": []
  }
 ],
 "metadata": {
  "kernelspec": {
   "display_name": "Python 3",
   "language": "python",
   "name": "python3"
  },
  "language_info": {
   "codemirror_mode": {
    "name": "ipython",
    "version": 3
   },
   "file_extension": ".py",
   "mimetype": "text/x-python",
   "name": "python",
   "nbconvert_exporter": "python",
   "pygments_lexer": "ipython3",
   "version": "3.4.3"
  }
 },
 "nbformat": 4,
 "nbformat_minor": 0
}
